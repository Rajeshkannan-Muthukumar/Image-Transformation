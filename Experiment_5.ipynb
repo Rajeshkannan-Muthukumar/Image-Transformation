{
 "cells": [
  {
   "cell_type": "code",
   "execution_count": null,
   "id": "1cf28fe4",
   "metadata": {},
   "outputs": [],
   "source": [
    "### image translation"
   ]
  },
  {
   "cell_type": "code",
   "execution_count": 191,
   "id": "d7b22c43",
   "metadata": {},
   "outputs": [],
   "source": [
    "import cv2\n",
    "import numpy as np"
   ]
  },
  {
   "cell_type": "code",
   "execution_count": 192,
   "id": "1f514020",
   "metadata": {},
   "outputs": [],
   "source": [
    "img = cv2.imread('horse.jfif',-1)\n",
    "original  = cv2.cvtColor(img , cv2.COLOR_BGR2RGB)\n",
    "cv2.imshow('input',original)\n",
    "cv2.waitKey(0)\n",
    "cv2.destroyAllWindows()"
   ]
  },
  {
   "cell_type": "code",
   "execution_count": 193,
   "id": "d2e62ca7",
   "metadata": {},
   "outputs": [
    {
     "data": {
      "text/plain": [
       "(666, 1000, 3)"
      ]
     },
     "execution_count": 193,
     "metadata": {},
     "output_type": "execute_result"
    }
   ],
   "source": [
    "original.shape"
   ]
  },
  {
   "cell_type": "code",
   "execution_count": 194,
   "id": "3101b8cb",
   "metadata": {},
   "outputs": [],
   "source": [
    "row, col, dim =original.shape"
   ]
  },
  {
   "cell_type": "code",
   "execution_count": 195,
   "id": "e6294a9c",
   "metadata": {},
   "outputs": [],
   "source": [
    "### image translation"
   ]
  },
  {
   "cell_type": "code",
   "execution_count": 223,
   "id": "a2d8196f",
   "metadata": {},
   "outputs": [],
   "source": [
    "translation = np.float32([[1,0,150],[0,1,250],[0,0,1]])\n",
    "translated_image = cv2.warpPerspective(original,translation,(col,row))"
   ]
  },
  {
   "cell_type": "code",
   "execution_count": 225,
   "id": "f0f79b95",
   "metadata": {},
   "outputs": [],
   "source": [
    "cv2.imshow('translated_image',translated_image)\n",
    "cv2.waitKey(0)\n",
    "cv2.destroyAllWindows()"
   ]
  },
  {
   "cell_type": "code",
   "execution_count": 198,
   "id": "b00f4046",
   "metadata": {},
   "outputs": [],
   "source": [
    "### image scaling"
   ]
  },
  {
   "cell_type": "code",
   "execution_count": 199,
   "id": "cecaad0f",
   "metadata": {},
   "outputs": [],
   "source": [
    "scaling = np.float32([[1.2,0,0],[0,1.8,0],[0,0,1]])\n",
    "scaled_image = cv2.warpPerspective(original,scaling,(col,row))"
   ]
  },
  {
   "cell_type": "code",
   "execution_count": 200,
   "id": "6ffe7c90",
   "metadata": {},
   "outputs": [],
   "source": [
    "cv2.imshow('scaled_image',scaled_image)\n",
    "cv2.waitKey(0)\n",
    "cv2.destroyAllWindows()"
   ]
  },
  {
   "cell_type": "code",
   "execution_count": 201,
   "id": "0e84a179",
   "metadata": {},
   "outputs": [],
   "source": [
    "## image shearing"
   ]
  },
  {
   "cell_type": "code",
   "execution_count": 202,
   "id": "3617842f",
   "metadata": {},
   "outputs": [],
   "source": [
    "shear_x = np.float32([[1,0.7,0],[0,1,0],[0,0,1]])\n",
    "shear_y = np.float32([[1,0,0],[0.3,1,0],[0,0,1]])"
   ]
  },
  {
   "cell_type": "code",
   "execution_count": 203,
   "id": "483ca3d2",
   "metadata": {},
   "outputs": [],
   "source": [
    "sheared_x= cv2.warpPerspective(original,shear_x,(col,row))\n",
    "sheared_y = cv2.warpPerspective(original,shear_y,(col,row))"
   ]
  },
  {
   "cell_type": "code",
   "execution_count": 204,
   "id": "d137dc9f",
   "metadata": {},
   "outputs": [],
   "source": [
    "cv2.imshow('shear_x',sheared_x)\n",
    "cv2.waitKey(0)\n",
    "cv2.destroyAllWindows()"
   ]
  },
  {
   "cell_type": "code",
   "execution_count": 205,
   "id": "94819f18",
   "metadata": {},
   "outputs": [],
   "source": [
    "cv2.imshow('shear_y',sheared_y)\n",
    "cv2.waitKey(0)\n",
    "cv2.destroyAllWindows()"
   ]
  },
  {
   "cell_type": "code",
   "execution_count": 206,
   "id": "3ba44c9b",
   "metadata": {},
   "outputs": [],
   "source": [
    "## image reflection"
   ]
  },
  {
   "cell_type": "code",
   "execution_count": 233,
   "id": "ac833e6d",
   "metadata": {},
   "outputs": [],
   "source": [
    "ref_x = np.float32([[1,0,0],[0,-1,row],[0,0,1]])\n",
    "ref_y = np.float32([[-1,0,col],[0,1,0],[0,0,1]])"
   ]
  },
  {
   "cell_type": "code",
   "execution_count": 234,
   "id": "e1ab2eab",
   "metadata": {},
   "outputs": [],
   "source": [
    "reflect_x= cv2.warpPerspective(original1,ref_x,(col,row))\n",
    "reflect_y = cv2.warpPerspective(original1,ref_y,(col,row))"
   ]
  },
  {
   "cell_type": "code",
   "execution_count": 235,
   "id": "51d40d5a",
   "metadata": {},
   "outputs": [],
   "source": [
    "cv2.imshow('reflected_x',reflect_x)\n",
    "cv2.waitKey(0)\n",
    "cv2.destroyAllWindows()"
   ]
  },
  {
   "cell_type": "code",
   "execution_count": 236,
   "id": "eff9f408",
   "metadata": {},
   "outputs": [],
   "source": [
    "cv2.imshow('reflected_y',reflect_y)\n",
    "cv2.waitKey(0)\n",
    "cv2.destroyAllWindows()"
   ]
  },
  {
   "cell_type": "code",
   "execution_count": 57,
   "id": "6793a262",
   "metadata": {},
   "outputs": [],
   "source": [
    "### image rotation "
   ]
  },
  {
   "cell_type": "code",
   "execution_count": 214,
   "id": "d606a9d7",
   "metadata": {},
   "outputs": [],
   "source": [
    "angle = np.radians(15)"
   ]
  },
  {
   "cell_type": "code",
   "execution_count": 215,
   "id": "49f8f90a",
   "metadata": {},
   "outputs": [],
   "source": [
    "mat_rotate = np.float32([[np.cos(angle),-(np.sin(angle)),0],[np.sin(angle),np.cos(angle),0],[0,0,1]])"
   ]
  },
  {
   "cell_type": "code",
   "execution_count": 216,
   "id": "f778158a",
   "metadata": {},
   "outputs": [],
   "source": [
    "rotate_img =cv2.warpPerspective(original,mat_rotate,(col,row))"
   ]
  },
  {
   "cell_type": "code",
   "execution_count": 217,
   "id": "6f36760d",
   "metadata": {},
   "outputs": [],
   "source": [
    "cv2.imshow('rotated',rotate_img)\n",
    "cv2.waitKey(0)\n",
    "cv2.destroyAllWindows()"
   ]
  },
  {
   "cell_type": "code",
   "execution_count": 108,
   "id": "8ab65808",
   "metadata": {},
   "outputs": [],
   "source": [
    "### image croping"
   ]
  },
  {
   "cell_type": "code",
   "execution_count": 220,
   "id": "659b2490",
   "metadata": {},
   "outputs": [],
   "source": [
    "#for i in range(10,600):\n",
    "#for j in range(10,900):\n",
    "cropped_img=img[10:500,25:600] \n",
    "    "
   ]
  },
  {
   "cell_type": "code",
   "execution_count": 222,
   "id": "1fc70ae0",
   "metadata": {},
   "outputs": [],
   "source": [
    "cv2.imshow('after_cropping',cropped_img);\n",
    "cv2.waitKey(0)\n",
    "cv2.destroyAllWindows()"
   ]
  },
  {
   "cell_type": "code",
   "execution_count": null,
   "id": "fcb8a1b0",
   "metadata": {},
   "outputs": [],
   "source": []
  }
 ],
 "metadata": {
  "kernelspec": {
   "display_name": "Python 3",
   "language": "python",
   "name": "python3"
  },
  "language_info": {
   "codemirror_mode": {
    "name": "ipython",
    "version": 3
   },
   "file_extension": ".py",
   "mimetype": "text/x-python",
   "name": "python",
   "nbconvert_exporter": "python",
   "pygments_lexer": "ipython3",
   "version": "3.8.8"
  }
 },
 "nbformat": 4,
 "nbformat_minor": 5
}
